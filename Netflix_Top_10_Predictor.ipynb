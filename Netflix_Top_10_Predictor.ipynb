{
  "cells": [
    {
      "cell_type": "markdown",
      "metadata": {
        "id": "view-in-github",
        "colab_type": "text"
      },
      "source": [
        "<a href=\"https://colab.research.google.com/github/mopfun/Project_4_Grp_1/blob/MI/Netflix_Top_10_Predictor.ipynb\" target=\"_parent\"><img src=\"https://colab.research.google.com/assets/colab-badge.svg\" alt=\"Open In Colab\"/></a>"
      ]
    },
    {
      "cell_type": "markdown",
      "metadata": {
        "id": "_jQ_6ij6GGuY"
      },
      "source": [
        "# Preprocessing Data"
      ]
    },
    {
      "cell_type": "code",
      "execution_count": 10,
      "metadata": {
        "id": "ZblYsXtzGGuZ"
      },
      "outputs": [],
      "source": [
        "# Import our dependencies\n",
        "from sklearn.model_selection import train_test_split\n",
        "from sklearn.preprocessing import StandardScaler\n",
        "import tensorflow as tf\n",
        "import pandas as pd\n"
      ]
    },
    {
      "cell_type": "code",
      "source": [
        "import os\n",
        "os.getcwd()"
      ],
      "metadata": {
        "colab": {
          "base_uri": "https://localhost:8080/",
          "height": 35
        },
        "id": "s7YCrrTuMwNn",
        "outputId": "3c8ca279-84b9-4db5-a993-f40ce2422962"
      },
      "execution_count": 11,
      "outputs": [
        {
          "output_type": "execute_result",
          "data": {
            "text/plain": [
              "'/content'"
            ],
            "application/vnd.google.colaboratory.intrinsic+json": {
              "type": "string"
            }
          },
          "metadata": {},
          "execution_count": 11
        }
      ]
    },
    {
      "cell_type": "markdown",
      "source": [
        "# Make sure you upload final_combined_data.csv to the **content folder** in google colab every time you run this file"
      ],
      "metadata": {
        "id": "6BaGl3neaJPo"
      }
    },
    {
      "cell_type": "code",
      "source": [
        "# Import in csv file\n",
        "df = pd.read_csv(\"final_combined_data.csv\")\n",
        "df.head()"
      ],
      "metadata": {
        "colab": {
          "base_uri": "https://localhost:8080/",
          "height": 429
        },
        "id": "HN5U3cXRIwzQ",
        "outputId": "8ed24437-74eb-499b-d3e1-f8e1d93b4b39"
      },
      "execution_count": 21,
      "outputs": [
        {
          "output_type": "execute_result",
          "data": {
            "text/plain": [
              "   row_id      movie_name  rating     votes  meta_score  \\\n",
              "0     506            1917     8.2  654000.0          78   \n",
              "1    1356  21 Jump Street     7.2  589000.0          69   \n",
              "2    1698   6 Underground     6.1  192000.0          41   \n",
              "3    1698   6 Underground     6.1  192000.0          41   \n",
              "4    1698   6 Underground     6.1  192000.0          41   \n",
              "\n",
              "                  genre0  genre1     genre2  genre3 pr_rating  ...  \\\n",
              "0     Action, Drama, War  Action      Drama     War         R  ...   \n",
              "1  Action, Comedy, Crime  Action     Comedy   Crime         R  ...   \n",
              "2       Action, Thriller  Action   Thriller     NaN         R  ...   \n",
              "3       Action, Thriller  Action   Thriller     NaN         R  ...   \n",
              "4       Action, Thriller  Action   Thriller     NaN         R  ...   \n",
              "\n",
              "                  cast1             cast2                 cast3         cast4  \\\n",
              "0  Dean-Charles Chapman     George MacKay           Daniel Mays   Colin Firth   \n",
              "1            Jonah Hill    Channing Tatum              Ice Cube   Brie Larson   \n",
              "2         Ryan Reynolds   Mélanie Laurent   Manuel Garcia-Rulfo     Ben Hardy   \n",
              "3         Ryan Reynolds   Mélanie Laurent   Manuel Garcia-Rulfo     Ben Hardy   \n",
              "4         Ryan Reynolds   Mélanie Laurent   Manuel Garcia-Rulfo     Ben Hardy   \n",
              "\n",
              "                      director number_rating weekly_rank weekly_hours_viewed  \\\n",
              "0                   Sam Mendes             4           7            10840000   \n",
              "1  Phil LordChristopher Miller             4           6            11690000   \n",
              "2                  Michael Bay             4           5             8730000   \n",
              "3                  Michael Bay             4           7             7440000   \n",
              "4                  Michael Bay             4           9             7770000   \n",
              "\n",
              "   weekly_views  cumulative_weeks_in_top_10  \n",
              "0           NaN                           1  \n",
              "1           NaN                           1  \n",
              "2           NaN                           3  \n",
              "3           NaN                           2  \n",
              "4           NaN                           1  \n",
              "\n",
              "[5 rows x 23 columns]"
            ],
            "text/html": [
              "\n",
              "  <div id=\"df-62e4e274-ebbf-4ea0-a19e-638550cf93a8\" class=\"colab-df-container\">\n",
              "    <div>\n",
              "<style scoped>\n",
              "    .dataframe tbody tr th:only-of-type {\n",
              "        vertical-align: middle;\n",
              "    }\n",
              "\n",
              "    .dataframe tbody tr th {\n",
              "        vertical-align: top;\n",
              "    }\n",
              "\n",
              "    .dataframe thead th {\n",
              "        text-align: right;\n",
              "    }\n",
              "</style>\n",
              "<table border=\"1\" class=\"dataframe\">\n",
              "  <thead>\n",
              "    <tr style=\"text-align: right;\">\n",
              "      <th></th>\n",
              "      <th>row_id</th>\n",
              "      <th>movie_name</th>\n",
              "      <th>rating</th>\n",
              "      <th>votes</th>\n",
              "      <th>meta_score</th>\n",
              "      <th>genre0</th>\n",
              "      <th>genre1</th>\n",
              "      <th>genre2</th>\n",
              "      <th>genre3</th>\n",
              "      <th>pr_rating</th>\n",
              "      <th>...</th>\n",
              "      <th>cast1</th>\n",
              "      <th>cast2</th>\n",
              "      <th>cast3</th>\n",
              "      <th>cast4</th>\n",
              "      <th>director</th>\n",
              "      <th>number_rating</th>\n",
              "      <th>weekly_rank</th>\n",
              "      <th>weekly_hours_viewed</th>\n",
              "      <th>weekly_views</th>\n",
              "      <th>cumulative_weeks_in_top_10</th>\n",
              "    </tr>\n",
              "  </thead>\n",
              "  <tbody>\n",
              "    <tr>\n",
              "      <th>0</th>\n",
              "      <td>506</td>\n",
              "      <td>1917</td>\n",
              "      <td>8.2</td>\n",
              "      <td>654000.0</td>\n",
              "      <td>78</td>\n",
              "      <td>Action, Drama, War</td>\n",
              "      <td>Action</td>\n",
              "      <td>Drama</td>\n",
              "      <td>War</td>\n",
              "      <td>R</td>\n",
              "      <td>...</td>\n",
              "      <td>Dean-Charles Chapman</td>\n",
              "      <td>George MacKay</td>\n",
              "      <td>Daniel Mays</td>\n",
              "      <td>Colin Firth</td>\n",
              "      <td>Sam Mendes</td>\n",
              "      <td>4</td>\n",
              "      <td>7</td>\n",
              "      <td>10840000</td>\n",
              "      <td>NaN</td>\n",
              "      <td>1</td>\n",
              "    </tr>\n",
              "    <tr>\n",
              "      <th>1</th>\n",
              "      <td>1356</td>\n",
              "      <td>21 Jump Street</td>\n",
              "      <td>7.2</td>\n",
              "      <td>589000.0</td>\n",
              "      <td>69</td>\n",
              "      <td>Action, Comedy, Crime</td>\n",
              "      <td>Action</td>\n",
              "      <td>Comedy</td>\n",
              "      <td>Crime</td>\n",
              "      <td>R</td>\n",
              "      <td>...</td>\n",
              "      <td>Jonah Hill</td>\n",
              "      <td>Channing Tatum</td>\n",
              "      <td>Ice Cube</td>\n",
              "      <td>Brie Larson</td>\n",
              "      <td>Phil LordChristopher Miller</td>\n",
              "      <td>4</td>\n",
              "      <td>6</td>\n",
              "      <td>11690000</td>\n",
              "      <td>NaN</td>\n",
              "      <td>1</td>\n",
              "    </tr>\n",
              "    <tr>\n",
              "      <th>2</th>\n",
              "      <td>1698</td>\n",
              "      <td>6 Underground</td>\n",
              "      <td>6.1</td>\n",
              "      <td>192000.0</td>\n",
              "      <td>41</td>\n",
              "      <td>Action, Thriller</td>\n",
              "      <td>Action</td>\n",
              "      <td>Thriller</td>\n",
              "      <td>NaN</td>\n",
              "      <td>R</td>\n",
              "      <td>...</td>\n",
              "      <td>Ryan Reynolds</td>\n",
              "      <td>Mélanie Laurent</td>\n",
              "      <td>Manuel Garcia-Rulfo</td>\n",
              "      <td>Ben Hardy</td>\n",
              "      <td>Michael Bay</td>\n",
              "      <td>4</td>\n",
              "      <td>5</td>\n",
              "      <td>8730000</td>\n",
              "      <td>NaN</td>\n",
              "      <td>3</td>\n",
              "    </tr>\n",
              "    <tr>\n",
              "      <th>3</th>\n",
              "      <td>1698</td>\n",
              "      <td>6 Underground</td>\n",
              "      <td>6.1</td>\n",
              "      <td>192000.0</td>\n",
              "      <td>41</td>\n",
              "      <td>Action, Thriller</td>\n",
              "      <td>Action</td>\n",
              "      <td>Thriller</td>\n",
              "      <td>NaN</td>\n",
              "      <td>R</td>\n",
              "      <td>...</td>\n",
              "      <td>Ryan Reynolds</td>\n",
              "      <td>Mélanie Laurent</td>\n",
              "      <td>Manuel Garcia-Rulfo</td>\n",
              "      <td>Ben Hardy</td>\n",
              "      <td>Michael Bay</td>\n",
              "      <td>4</td>\n",
              "      <td>7</td>\n",
              "      <td>7440000</td>\n",
              "      <td>NaN</td>\n",
              "      <td>2</td>\n",
              "    </tr>\n",
              "    <tr>\n",
              "      <th>4</th>\n",
              "      <td>1698</td>\n",
              "      <td>6 Underground</td>\n",
              "      <td>6.1</td>\n",
              "      <td>192000.0</td>\n",
              "      <td>41</td>\n",
              "      <td>Action, Thriller</td>\n",
              "      <td>Action</td>\n",
              "      <td>Thriller</td>\n",
              "      <td>NaN</td>\n",
              "      <td>R</td>\n",
              "      <td>...</td>\n",
              "      <td>Ryan Reynolds</td>\n",
              "      <td>Mélanie Laurent</td>\n",
              "      <td>Manuel Garcia-Rulfo</td>\n",
              "      <td>Ben Hardy</td>\n",
              "      <td>Michael Bay</td>\n",
              "      <td>4</td>\n",
              "      <td>9</td>\n",
              "      <td>7770000</td>\n",
              "      <td>NaN</td>\n",
              "      <td>1</td>\n",
              "    </tr>\n",
              "  </tbody>\n",
              "</table>\n",
              "<p>5 rows × 23 columns</p>\n",
              "</div>\n",
              "    <div class=\"colab-df-buttons\">\n",
              "\n",
              "  <div class=\"colab-df-container\">\n",
              "    <button class=\"colab-df-convert\" onclick=\"convertToInteractive('df-62e4e274-ebbf-4ea0-a19e-638550cf93a8')\"\n",
              "            title=\"Convert this dataframe to an interactive table.\"\n",
              "            style=\"display:none;\">\n",
              "\n",
              "  <svg xmlns=\"http://www.w3.org/2000/svg\" height=\"24px\" viewBox=\"0 -960 960 960\">\n",
              "    <path d=\"M120-120v-720h720v720H120Zm60-500h600v-160H180v160Zm220 220h160v-160H400v160Zm0 220h160v-160H400v160ZM180-400h160v-160H180v160Zm440 0h160v-160H620v160ZM180-180h160v-160H180v160Zm440 0h160v-160H620v160Z\"/>\n",
              "  </svg>\n",
              "    </button>\n",
              "\n",
              "  <style>\n",
              "    .colab-df-container {\n",
              "      display:flex;\n",
              "      gap: 12px;\n",
              "    }\n",
              "\n",
              "    .colab-df-convert {\n",
              "      background-color: #E8F0FE;\n",
              "      border: none;\n",
              "      border-radius: 50%;\n",
              "      cursor: pointer;\n",
              "      display: none;\n",
              "      fill: #1967D2;\n",
              "      height: 32px;\n",
              "      padding: 0 0 0 0;\n",
              "      width: 32px;\n",
              "    }\n",
              "\n",
              "    .colab-df-convert:hover {\n",
              "      background-color: #E2EBFA;\n",
              "      box-shadow: 0px 1px 2px rgba(60, 64, 67, 0.3), 0px 1px 3px 1px rgba(60, 64, 67, 0.15);\n",
              "      fill: #174EA6;\n",
              "    }\n",
              "\n",
              "    .colab-df-buttons div {\n",
              "      margin-bottom: 4px;\n",
              "    }\n",
              "\n",
              "    [theme=dark] .colab-df-convert {\n",
              "      background-color: #3B4455;\n",
              "      fill: #D2E3FC;\n",
              "    }\n",
              "\n",
              "    [theme=dark] .colab-df-convert:hover {\n",
              "      background-color: #434B5C;\n",
              "      box-shadow: 0px 1px 3px 1px rgba(0, 0, 0, 0.15);\n",
              "      filter: drop-shadow(0px 1px 2px rgba(0, 0, 0, 0.3));\n",
              "      fill: #FFFFFF;\n",
              "    }\n",
              "  </style>\n",
              "\n",
              "    <script>\n",
              "      const buttonEl =\n",
              "        document.querySelector('#df-62e4e274-ebbf-4ea0-a19e-638550cf93a8 button.colab-df-convert');\n",
              "      buttonEl.style.display =\n",
              "        google.colab.kernel.accessAllowed ? 'block' : 'none';\n",
              "\n",
              "      async function convertToInteractive(key) {\n",
              "        const element = document.querySelector('#df-62e4e274-ebbf-4ea0-a19e-638550cf93a8');\n",
              "        const dataTable =\n",
              "          await google.colab.kernel.invokeFunction('convertToInteractive',\n",
              "                                                    [key], {});\n",
              "        if (!dataTable) return;\n",
              "\n",
              "        const docLinkHtml = 'Like what you see? Visit the ' +\n",
              "          '<a target=\"_blank\" href=https://colab.research.google.com/notebooks/data_table.ipynb>data table notebook</a>'\n",
              "          + ' to learn more about interactive tables.';\n",
              "        element.innerHTML = '';\n",
              "        dataTable['output_type'] = 'display_data';\n",
              "        await google.colab.output.renderOutput(dataTable, element);\n",
              "        const docLink = document.createElement('div');\n",
              "        docLink.innerHTML = docLinkHtml;\n",
              "        element.appendChild(docLink);\n",
              "      }\n",
              "    </script>\n",
              "  </div>\n",
              "\n",
              "\n",
              "    <div id=\"df-25b0de27-3742-4dc3-9f06-c21c19182f09\">\n",
              "      <button class=\"colab-df-quickchart\" onclick=\"quickchart('df-25b0de27-3742-4dc3-9f06-c21c19182f09')\"\n",
              "                title=\"Suggest charts\"\n",
              "                style=\"display:none;\">\n",
              "\n",
              "<svg xmlns=\"http://www.w3.org/2000/svg\" height=\"24px\"viewBox=\"0 0 24 24\"\n",
              "     width=\"24px\">\n",
              "    <g>\n",
              "        <path d=\"M19 3H5c-1.1 0-2 .9-2 2v14c0 1.1.9 2 2 2h14c1.1 0 2-.9 2-2V5c0-1.1-.9-2-2-2zM9 17H7v-7h2v7zm4 0h-2V7h2v10zm4 0h-2v-4h2v4z\"/>\n",
              "    </g>\n",
              "</svg>\n",
              "      </button>\n",
              "\n",
              "<style>\n",
              "  .colab-df-quickchart {\n",
              "      --bg-color: #E8F0FE;\n",
              "      --fill-color: #1967D2;\n",
              "      --hover-bg-color: #E2EBFA;\n",
              "      --hover-fill-color: #174EA6;\n",
              "      --disabled-fill-color: #AAA;\n",
              "      --disabled-bg-color: #DDD;\n",
              "  }\n",
              "\n",
              "  [theme=dark] .colab-df-quickchart {\n",
              "      --bg-color: #3B4455;\n",
              "      --fill-color: #D2E3FC;\n",
              "      --hover-bg-color: #434B5C;\n",
              "      --hover-fill-color: #FFFFFF;\n",
              "      --disabled-bg-color: #3B4455;\n",
              "      --disabled-fill-color: #666;\n",
              "  }\n",
              "\n",
              "  .colab-df-quickchart {\n",
              "    background-color: var(--bg-color);\n",
              "    border: none;\n",
              "    border-radius: 50%;\n",
              "    cursor: pointer;\n",
              "    display: none;\n",
              "    fill: var(--fill-color);\n",
              "    height: 32px;\n",
              "    padding: 0;\n",
              "    width: 32px;\n",
              "  }\n",
              "\n",
              "  .colab-df-quickchart:hover {\n",
              "    background-color: var(--hover-bg-color);\n",
              "    box-shadow: 0 1px 2px rgba(60, 64, 67, 0.3), 0 1px 3px 1px rgba(60, 64, 67, 0.15);\n",
              "    fill: var(--button-hover-fill-color);\n",
              "  }\n",
              "\n",
              "  .colab-df-quickchart-complete:disabled,\n",
              "  .colab-df-quickchart-complete:disabled:hover {\n",
              "    background-color: var(--disabled-bg-color);\n",
              "    fill: var(--disabled-fill-color);\n",
              "    box-shadow: none;\n",
              "  }\n",
              "\n",
              "  .colab-df-spinner {\n",
              "    border: 2px solid var(--fill-color);\n",
              "    border-color: transparent;\n",
              "    border-bottom-color: var(--fill-color);\n",
              "    animation:\n",
              "      spin 1s steps(1) infinite;\n",
              "  }\n",
              "\n",
              "  @keyframes spin {\n",
              "    0% {\n",
              "      border-color: transparent;\n",
              "      border-bottom-color: var(--fill-color);\n",
              "      border-left-color: var(--fill-color);\n",
              "    }\n",
              "    20% {\n",
              "      border-color: transparent;\n",
              "      border-left-color: var(--fill-color);\n",
              "      border-top-color: var(--fill-color);\n",
              "    }\n",
              "    30% {\n",
              "      border-color: transparent;\n",
              "      border-left-color: var(--fill-color);\n",
              "      border-top-color: var(--fill-color);\n",
              "      border-right-color: var(--fill-color);\n",
              "    }\n",
              "    40% {\n",
              "      border-color: transparent;\n",
              "      border-right-color: var(--fill-color);\n",
              "      border-top-color: var(--fill-color);\n",
              "    }\n",
              "    60% {\n",
              "      border-color: transparent;\n",
              "      border-right-color: var(--fill-color);\n",
              "    }\n",
              "    80% {\n",
              "      border-color: transparent;\n",
              "      border-right-color: var(--fill-color);\n",
              "      border-bottom-color: var(--fill-color);\n",
              "    }\n",
              "    90% {\n",
              "      border-color: transparent;\n",
              "      border-bottom-color: var(--fill-color);\n",
              "    }\n",
              "  }\n",
              "</style>\n",
              "\n",
              "      <script>\n",
              "        async function quickchart(key) {\n",
              "          const quickchartButtonEl =\n",
              "            document.querySelector('#' + key + ' button');\n",
              "          quickchartButtonEl.disabled = true;  // To prevent multiple clicks.\n",
              "          quickchartButtonEl.classList.add('colab-df-spinner');\n",
              "          try {\n",
              "            const charts = await google.colab.kernel.invokeFunction(\n",
              "                'suggestCharts', [key], {});\n",
              "          } catch (error) {\n",
              "            console.error('Error during call to suggestCharts:', error);\n",
              "          }\n",
              "          quickchartButtonEl.classList.remove('colab-df-spinner');\n",
              "          quickchartButtonEl.classList.add('colab-df-quickchart-complete');\n",
              "        }\n",
              "        (() => {\n",
              "          let quickchartButtonEl =\n",
              "            document.querySelector('#df-25b0de27-3742-4dc3-9f06-c21c19182f09 button');\n",
              "          quickchartButtonEl.style.display =\n",
              "            google.colab.kernel.accessAllowed ? 'block' : 'none';\n",
              "        })();\n",
              "      </script>\n",
              "    </div>\n",
              "\n",
              "    </div>\n",
              "  </div>\n"
            ],
            "application/vnd.google.colaboratory.intrinsic+json": {
              "type": "dataframe",
              "variable_name": "df"
            }
          },
          "metadata": {},
          "execution_count": 21
        }
      ]
    },
    {
      "cell_type": "code",
      "source": [
        "# Drop columns?\n",
        "df = df.drop(columns=[\"row_id\", \"movie_name\", \"genre0\", \"cast0\", \"number_rating\", \"weekly_hours_viewed\"])"
      ],
      "metadata": {
        "id": "FyuSzcOHJFKn"
      },
      "execution_count": 22,
      "outputs": []
    },
    {
      "cell_type": "code",
      "execution_count": 23,
      "metadata": {
        "colab": {
          "base_uri": "https://localhost:8080/",
          "height": 617
        },
        "id": "eauyuQilGGua",
        "outputId": "0418a28a-785f-4441-81a4-cd08c71146ca"
      },
      "outputs": [
        {
          "output_type": "execute_result",
          "data": {
            "text/plain": [
              "rating                         36\n",
              "votes                         155\n",
              "meta_score                     63\n",
              "genre1                          8\n",
              "genre2                         16\n",
              "genre3                         15\n",
              "pr_rating                       5\n",
              "year                           30\n",
              "duration                       66\n",
              "cast1                         127\n",
              "cast2                         164\n",
              "cast3                         170\n",
              "cast4                         176\n",
              "director                      156\n",
              "weekly_rank                    10\n",
              "weekly_views                   84\n",
              "cumulative_weeks_in_top_10     14\n",
              "dtype: int64"
            ],
            "text/html": [
              "<div>\n",
              "<style scoped>\n",
              "    .dataframe tbody tr th:only-of-type {\n",
              "        vertical-align: middle;\n",
              "    }\n",
              "\n",
              "    .dataframe tbody tr th {\n",
              "        vertical-align: top;\n",
              "    }\n",
              "\n",
              "    .dataframe thead th {\n",
              "        text-align: right;\n",
              "    }\n",
              "</style>\n",
              "<table border=\"1\" class=\"dataframe\">\n",
              "  <thead>\n",
              "    <tr style=\"text-align: right;\">\n",
              "      <th></th>\n",
              "      <th>0</th>\n",
              "    </tr>\n",
              "  </thead>\n",
              "  <tbody>\n",
              "    <tr>\n",
              "      <th>rating</th>\n",
              "      <td>36</td>\n",
              "    </tr>\n",
              "    <tr>\n",
              "      <th>votes</th>\n",
              "      <td>155</td>\n",
              "    </tr>\n",
              "    <tr>\n",
              "      <th>meta_score</th>\n",
              "      <td>63</td>\n",
              "    </tr>\n",
              "    <tr>\n",
              "      <th>genre1</th>\n",
              "      <td>8</td>\n",
              "    </tr>\n",
              "    <tr>\n",
              "      <th>genre2</th>\n",
              "      <td>16</td>\n",
              "    </tr>\n",
              "    <tr>\n",
              "      <th>genre3</th>\n",
              "      <td>15</td>\n",
              "    </tr>\n",
              "    <tr>\n",
              "      <th>pr_rating</th>\n",
              "      <td>5</td>\n",
              "    </tr>\n",
              "    <tr>\n",
              "      <th>year</th>\n",
              "      <td>30</td>\n",
              "    </tr>\n",
              "    <tr>\n",
              "      <th>duration</th>\n",
              "      <td>66</td>\n",
              "    </tr>\n",
              "    <tr>\n",
              "      <th>cast1</th>\n",
              "      <td>127</td>\n",
              "    </tr>\n",
              "    <tr>\n",
              "      <th>cast2</th>\n",
              "      <td>164</td>\n",
              "    </tr>\n",
              "    <tr>\n",
              "      <th>cast3</th>\n",
              "      <td>170</td>\n",
              "    </tr>\n",
              "    <tr>\n",
              "      <th>cast4</th>\n",
              "      <td>176</td>\n",
              "    </tr>\n",
              "    <tr>\n",
              "      <th>director</th>\n",
              "      <td>156</td>\n",
              "    </tr>\n",
              "    <tr>\n",
              "      <th>weekly_rank</th>\n",
              "      <td>10</td>\n",
              "    </tr>\n",
              "    <tr>\n",
              "      <th>weekly_views</th>\n",
              "      <td>84</td>\n",
              "    </tr>\n",
              "    <tr>\n",
              "      <th>cumulative_weeks_in_top_10</th>\n",
              "      <td>14</td>\n",
              "    </tr>\n",
              "  </tbody>\n",
              "</table>\n",
              "</div><br><label><b>dtype:</b> int64</label>"
            ]
          },
          "metadata": {},
          "execution_count": 23
        }
      ],
      "source": [
        "# Determine the number of unique values in each column.\n",
        "df.nunique()"
      ]
    },
    {
      "cell_type": "code",
      "execution_count": 25,
      "metadata": {
        "colab": {
          "base_uri": "https://localhost:8080/",
          "height": 490
        },
        "id": "UNThkw-jGGua",
        "outputId": "34c992ee-e5fd-44e1-f9ba-53d460118411"
      },
      "outputs": [
        {
          "output_type": "execute_result",
          "data": {
            "text/plain": [
              "director\n",
              "Brad Furman                           19\n",
              "Garth JenningsChristophe Lourdelet    18\n",
              "Rawson Marshall Thurber               16\n",
              "Greta Gerwig                          11\n",
              "Gillian Armstrong                     11\n",
              "                                      ..\n",
              "Roar Uthaug                            1\n",
              "J.C. Chandor                           1\n",
              "Adrian Lyne                            1\n",
              "Walt DohrnDavid P. Smith               1\n",
              "William Eubank                         1\n",
              "Name: count, Length: 156, dtype: int64"
            ],
            "text/html": [
              "<div>\n",
              "<style scoped>\n",
              "    .dataframe tbody tr th:only-of-type {\n",
              "        vertical-align: middle;\n",
              "    }\n",
              "\n",
              "    .dataframe tbody tr th {\n",
              "        vertical-align: top;\n",
              "    }\n",
              "\n",
              "    .dataframe thead th {\n",
              "        text-align: right;\n",
              "    }\n",
              "</style>\n",
              "<table border=\"1\" class=\"dataframe\">\n",
              "  <thead>\n",
              "    <tr style=\"text-align: right;\">\n",
              "      <th></th>\n",
              "      <th>count</th>\n",
              "    </tr>\n",
              "    <tr>\n",
              "      <th>director</th>\n",
              "      <th></th>\n",
              "    </tr>\n",
              "  </thead>\n",
              "  <tbody>\n",
              "    <tr>\n",
              "      <th>Brad Furman</th>\n",
              "      <td>19</td>\n",
              "    </tr>\n",
              "    <tr>\n",
              "      <th>Garth JenningsChristophe Lourdelet</th>\n",
              "      <td>18</td>\n",
              "    </tr>\n",
              "    <tr>\n",
              "      <th>Rawson Marshall Thurber</th>\n",
              "      <td>16</td>\n",
              "    </tr>\n",
              "    <tr>\n",
              "      <th>Greta Gerwig</th>\n",
              "      <td>11</td>\n",
              "    </tr>\n",
              "    <tr>\n",
              "      <th>Gillian Armstrong</th>\n",
              "      <td>11</td>\n",
              "    </tr>\n",
              "    <tr>\n",
              "      <th>...</th>\n",
              "      <td>...</td>\n",
              "    </tr>\n",
              "    <tr>\n",
              "      <th>Roar Uthaug</th>\n",
              "      <td>1</td>\n",
              "    </tr>\n",
              "    <tr>\n",
              "      <th>J.C. Chandor</th>\n",
              "      <td>1</td>\n",
              "    </tr>\n",
              "    <tr>\n",
              "      <th>Adrian Lyne</th>\n",
              "      <td>1</td>\n",
              "    </tr>\n",
              "    <tr>\n",
              "      <th>Walt DohrnDavid P. Smith</th>\n",
              "      <td>1</td>\n",
              "    </tr>\n",
              "    <tr>\n",
              "      <th>William Eubank</th>\n",
              "      <td>1</td>\n",
              "    </tr>\n",
              "  </tbody>\n",
              "</table>\n",
              "<p>156 rows × 1 columns</p>\n",
              "</div><br><label><b>dtype:</b> int64</label>"
            ]
          },
          "metadata": {},
          "execution_count": 25
        }
      ],
      "source": [
        "# Look at specific value counts to identify and replace with \"Other\"\n",
        "df['director'].value_counts()"
      ]
    },
    {
      "cell_type": "code",
      "execution_count": null,
      "metadata": {
        "id": "ki846SW_GGua"
      },
      "outputs": [],
      "source": [
        "# # Choose a cutoff value and create a list of application types to be replaced\n",
        "# application_types_to_replace = ['T9', 'T13', 'T12', 'T2', 'T25', 'T14', 'T29', 'T15', 'T17']\n",
        "\n",
        "# # Replace in dataframe\n",
        "# for app in application_types_to_replace:\n",
        "#     application_df['APPLICATION_TYPE'] = application_df['APPLICATION_TYPE'].replace(app,\"Other\")\n",
        "\n",
        "# # Check to make sure replacement was successful\n",
        "# application_df['APPLICATION_TYPE'].value_counts()"
      ]
    },
    {
      "cell_type": "code",
      "execution_count": null,
      "metadata": {
        "id": "vuJPnyO4GGuc"
      },
      "outputs": [],
      "source": [
        "# Convert categorical data to numeric with `pd.get_dummies`(won't change numerical columns, only categorical)\n",
        "categorical_dummies = pd.get_dummies(df)"
      ]
    },
    {
      "cell_type": "code",
      "source": [
        "## Reuse this data for all the models\n",
        "# Split our preprocessed data into our features and target arrays\n",
        "X = df.drop(\"cumulative_weeks_in_top_10\", axis=1)\n",
        "y = df[\"cumulative_weeks_in_top_10\"]\n",
        "# Split the preprocessed data into a training and testing dataset\n",
        "X_train, X_test, y_train, y_test = train_test_split(X, y, random_state=1)"
      ],
      "metadata": {
        "id": "vuPSZbQWNsxF"
      },
      "execution_count": null,
      "outputs": []
    },
    {
      "cell_type": "code",
      "execution_count": null,
      "metadata": {
        "id": "QErw8kymGGuc"
      },
      "outputs": [],
      "source": [
        "# Create a StandardScaler instances\n",
        "scaler = StandardScaler()\n",
        "\n",
        "# Fit the StandardScaler\n",
        "X_scaler = scaler.fit(X_train)\n",
        "\n",
        "# Scale the data\n",
        "X_train_scaled = X_scaler.transform(X_train)\n",
        "X_test_scaled = X_scaler.transform(X_test)"
      ]
    },
    {
      "cell_type": "code",
      "source": [
        "classification_dummies.shape[1]"
      ],
      "metadata": {
        "id": "zLCGtqGCPSLf"
      },
      "execution_count": null,
      "outputs": []
    },
    {
      "cell_type": "markdown",
      "source": [
        "# Linear Regression Model\n",
        "\n",
        "We started with a **Linear Regression model** as a simple and interpretable baseline. This helped us:\n",
        "\n",
        "- Quickly test if a linear relationship exists between the features and the target\n",
        "- Understand which features have the strongest impact on the outcome\n",
        "- Provide an easy-to-explain model using coefficients\n",
        "- Compare performance against more complex models like Random Forest and Keras\n",
        "\n",
        "Even if it's not the best performer, it gives us a valuable starting point for analysis and model comparison."
      ],
      "metadata": {
        "id": "H-UyTz9xB8Sx"
      }
    },
    {
      "cell_type": "code",
      "source": [
        "from sklearn.linear_model import LinearRegression\n",
        "from sklearn.metrics import mean_absolute_error, mean_squared_error, r2_score\n",
        "import numpy as np\n",
        "\n",
        "# Create and fit the model\n",
        "lr_model = LinearRegression()\n",
        "lr_model.fit(X_train_scaled, y_train)\n",
        "\n",
        "# Predict\n",
        "predicitions = lr_model.predict(X_test_scaled)\n"
      ],
      "metadata": {
        "id": "Ei8esaL0Pv83"
      },
      "execution_count": null,
      "outputs": []
    },
    {
      "cell_type": "code",
      "source": [
        "# Evaluate\n",
        "mae = mean_absolute_error(y_test, predictions)\n",
        "rmse = np.sqrt(mean_squared_error(y_test, predictions))\n",
        "r2 = r2_score(y_test, predictions)\n",
        "\n",
        "print(f\"Linear Regression Mean Absolute Error (mae): {mae:.2f}\")\n",
        "print(f\"Linear Regression Root Mean Squared Error: {rmse:.2f}\")\n",
        "print(f\"Linear Regression R2: {r2:.2f}\")\n",
        "\n",
        "# Save Model\n",
        "lr_model.save('linear_regression_model.keras')"
      ],
      "metadata": {
        "id": "xqDigLShbOaj"
      },
      "execution_count": null,
      "outputs": []
    },
    {
      "cell_type": "markdown",
      "source": [
        "### What These Metrics Tell Us\n",
        "\n",
        "- **MAE (Mean Absolute Error)**: This tells us how far off our predictions are on average, measured in weeks.\n",
        "- **RMSE (Root Mean Squared Error)**: Similar to MAE, but it puts more weight on larger mistakes.\n",
        "- **R2 (R-squared)**: Shows how much of the variation in the target the model explains. A score closer to 1 means the model fits the data well.\n"
      ],
      "metadata": {
        "id": "f-7Fi3nMhJzH"
      }
    },
    {
      "cell_type": "markdown",
      "source": [
        "# Random Forest Model\n",
        "\n",
        "We used a **Random Forest Regressor** to improve predictive performance over the linear model. This method:\n",
        "\n",
        "- Handles complex, nonlinear relationships without requiring feature engineering\n",
        "- Is robust to outliers and overfitting due to its use of **multiple decision trees**\n",
        "- Automatically detects feature importance and interactions\n",
        "- Requires minimal preprocessing and works well with both numeric and encoded categorical data\n",
        "\n",
        "It’s a strong, reliable model for tabular data and a valuable benchmark before moving to deep learning."
      ],
      "metadata": {
        "id": "LTlck6g8P-Ur"
      }
    },
    {
      "cell_type": "code",
      "source": [
        "# Import RandomForestRegressor\n",
        "from sklearn.ensemble import RandomForestRegressor\n",
        "\n",
        "## Random forest DOES NOT use scaled data\n",
        "# Create and train the Random Forest model\n",
        "rf_model = RandomForestRegressor(n_estimators=100, random_state=42)\n",
        "rf_model.fit(X_train, y_train)\n",
        "\n",
        "# Make predictions\n",
        "rf_predictions = rf_model.predict(X_test)\n"
      ],
      "metadata": {
        "id": "ePRDTyNXRfGl"
      },
      "execution_count": null,
      "outputs": []
    },
    {
      "cell_type": "code",
      "source": [
        "# Evaluate the model\n",
        "mae_rf = mean_absolute_error(y_test, rf_predictions)\n",
        "rmse_rf = np.sqrt(mean_squared_error(y_test, rf_predictions))\n",
        "r2_rf = r2_score(y_test, rf_predictions)\n",
        "\n",
        "print(f\"Random Forest Mean Absolute Error: {mae_rf:.2f}\")\n",
        "print(f\"Random Forest Root Mean Squared Error: {rmse_rf:.2f}\")\n",
        "print(f\"Random Forest R2 Score: {r2_rf:.2f}\")\n",
        "\n",
        "#Save model\n",
        "rf_model.save('random_forest_model.keras')"
      ],
      "metadata": {
        "id": "ONBM_ZQybwKy"
      },
      "execution_count": null,
      "outputs": []
    },
    {
      "cell_type": "markdown",
      "source": [
        "# Keras Neural Network Model\n",
        "\n",
        "We used a **Keras neural network** to explore whether deep learning can capture more complex patterns in the data. This model:\n",
        "\n",
        "- Learns nonlinear relationships and deep feature interactions\n",
        "- Can potentially outperform traditional models with enough data and tuning\n",
        "- Requires feature scaling and hyperparameter tuning for best results\n",
        "- Is highly customizable in terms of architecture and optimization\n",
        "\n",
        "This model helps us test if complexity leads to better predictive performance, especially after comparing it with simpler methods.\n"
      ],
      "metadata": {
        "id": "-8uI8RddBzPX"
      }
    },
    {
      "cell_type": "code",
      "source": [
        "# Create the Keras Model\n",
        "\n",
        "# This counts how many features (columns) your data has, so the model knows what kind of input to expect.\n",
        "number_input_features = len(X_train[0])\n",
        "\n",
        "# Used the standard 2 layers and standard neurons(64 and 32) to run a quick test\n",
        "hidden_nodes_layer1 = 64\n",
        "hidden_nodes_layer2 = 32\n",
        "\n",
        "# Start building the Sequential model\n",
        "nn = tf.keras.models.Sequential()\n",
        "\n",
        "# First hidden layer\n",
        "nn.add(tf.keras.layers.Dense(units=hidden_nodes_layer1, input_dim= number_input_features, activation=\"relu\"))\n",
        "\n",
        "# Second hidden layer\n",
        "nn.add(tf.keras.layers.Dense(units= hidden_nodes_layer2, activation=\"relu\"))\n",
        "\n",
        "# Output layer – Removed sigmoid because we are predicting a continuous number (weeks), not a binary value (0 or 1)\n",
        "nn.add(tf.keras.layers.Dense(units=1))\n",
        "\n",
        "# Check the structure of the model\n",
        "nn.summary()\n"
      ],
      "metadata": {
        "id": "HU8xEFy5BluX"
      },
      "execution_count": null,
      "outputs": []
    },
    {
      "cell_type": "code",
      "source": [
        "# Compile the model\n",
        "# loss='mse' directs the model to minimize mean squared error during training\n",
        "# metrics=['mae'] tracks the average prediction error (in weeks) for easier interpretation\n",
        "nn.compile(optimizer='adam', loss='mse', metrics=['mae'])"
      ],
      "metadata": {
        "id": "mzexBmzZc-jB"
      },
      "execution_count": null,
      "outputs": []
    },
    {
      "cell_type": "code",
      "source": [
        "# Train the model\n",
        "# validation_split=0.2 reserves 20% of training data for validation, helping us monitor overfitting and track performance on unseen data.\n",
        "# batch_size=32 trains the model in small groups, balancing speed, memory use, and generalization.\n",
        "fit_model_history = nn.fit(X_train_scaled, y_train, validation_split=0.2, epochs=50, batch_size=32)\n"
      ],
      "metadata": {
        "id": "RVhplY19Cf1M"
      },
      "execution_count": null,
      "outputs": []
    },
    {
      "cell_type": "code",
      "source": [
        "# Evaluate the model on test data\n",
        "# MAE (Mean Absolute Error) shows how many weeks off the predictions are, on average\n",
        "loss, mae = nn.evaluate(X_test_scaled, y_test)\n",
        "print(f\"Test MAE: {mae:.2f}, Loss (MSE): {loss:.2f}\")\n",
        "\n",
        "#Save file\n",
        "nn.save('keras_model.keras')"
      ],
      "metadata": {
        "id": "qEme1xcAB43t"
      },
      "execution_count": null,
      "outputs": []
    },
    {
      "cell_type": "markdown",
      "metadata": {
        "id": "lMUZtAPqGGuc"
      },
      "source": [
        "# Keras Tuner\n",
        "\n",
        "We used **Keras Tuner** to optimize our neural network’s architecture and hyperparameters. While our base Keras model gives us a starting point, Keras Tuner helps us:\n",
        "\n",
        "- Automatically search for the best combination of layers, units, activations, and learning rates\n",
        "- Improve model performance without manually guessing parameters\n",
        "- Reduce overfitting or underfitting by finding better model configurations\n",
        "- Explore multiple architectures efficiently\n",
        "\n",
        "This step helps us fine-tune our model and potentially outperform traditional machine learning methods by leveraging the flexibility of deep learning.\n"
      ]
    },
    {
      "cell_type": "code",
      "source": [
        "# This counts how many features (columns) your data has, so the model knows what kind of input to expect.\n",
        "number_input_features = len(X_train[0])\n",
        "\n",
        "# Create a method that creates a new Sequential model with hyperparameter options\n",
        "def create_model(hp):\n",
        "    nn = tf.keras.models.Sequential()\n",
        "\n",
        "    # Allow kerastuner to decide which activation function to use in hidden layers\n",
        "    activation = hp.Choice('activation',['relu','selu'])\n",
        "\n",
        "    # Allow kerastuner to decide number of neurons in first layer\n",
        "    nn.add(tf.keras.layers.Dense(units=hp.Int('first_units',\n",
        "        min_value=8,\n",
        "        max_value=128,\n",
        "        step=8), activation=activation, input_dim=number_input_features))\n",
        "\n",
        "    # Allow kerastuner to decide number of hidden layers and neurons in hidden layers\n",
        "    for i in range(hp.Int('num_layers', 1, 4)):\n",
        "        nn.add(tf.keras.layers.Dense(units=hp.Int('units_' + str(i),\n",
        "            min_value=8,\n",
        "            max_value=64,\n",
        "            step=8),\n",
        "            activation=activation))\n",
        "\n",
        "    # Output layer for regression (no activation)\n",
        "    nn.add(tf.keras.layers.Dense(units=1))\n",
        "\n",
        "    # Compile the model\n",
        "    nn.compile(loss=\"mse\", optimizer=\"adam\", metrics=[\"mae\"])\n",
        "\n",
        "    return nn"
      ],
      "metadata": {
        "id": "Wm_12o5ql5l3"
      },
      "execution_count": null,
      "outputs": []
    },
    {
      "cell_type": "code",
      "source": [
        "!pip install keras-tuner"
      ],
      "metadata": {
        "id": "98NFlp0_y0jt"
      },
      "execution_count": null,
      "outputs": []
    },
    {
      "cell_type": "code",
      "source": [
        "import keras_tuner as kt\n",
        "\n",
        "tuner = kt.Hyperband(\n",
        "    create_model,\n",
        "    objective=\"val_mae\",         # Mean Absolute Error for regression\n",
        "    max_epochs=20,\n",
        "    hyperband_iterations=2)\n"
      ],
      "metadata": {
        "id": "V-4DEELoV151"
      },
      "execution_count": null,
      "outputs": []
    },
    {
      "cell_type": "code",
      "source": [
        "# Run the Keras Tuner search for best hyperparameters\n",
        "tuner.search(X_train_scaled, y_train,\n",
        "             epochs=20,\n",
        "             validation_split=0.2,\n",
        "             batch_size=32)\n"
      ],
      "metadata": {
        "id": "PVLYVTFHWVYh"
      },
      "execution_count": null,
      "outputs": []
    },
    {
      "cell_type": "code",
      "source": [
        "# Get best model hyperparameters\n",
        "best_hyper = tuner.get_best_hyperparameters(1)[0]\n",
        "best_hyper.values"
      ],
      "metadata": {
        "id": "HQb-cDaph6r_"
      },
      "execution_count": null,
      "outputs": []
    },
    {
      "cell_type": "code",
      "source": [
        "# Evaluate best model against full test data\n",
        "best_model = tuner.get_best_models(1)[0]\n",
        "\n",
        "# Evaluate it on the test set\n",
        "loss, mae = best_model.evaluate(X_test_scaled, y_test)\n",
        "print(f\"Best Tuned Model: Test Mean Absolute Error: {mae:.2f}\")\n",
        "\n",
        "# Save the model to a file\n",
        "best_model.save('keras_tuner_best_model.keras')"
      ],
      "metadata": {
        "id": "lXvcXYlyQemM"
      },
      "execution_count": null,
      "outputs": []
    }
  ],
  "metadata": {
    "kernelspec": {
      "display_name": "Python 3",
      "language": "python",
      "name": "python3"
    },
    "language_info": {
      "codemirror_mode": {
        "name": "ipython",
        "version": 3
      },
      "file_extension": ".py",
      "mimetype": "text/x-python",
      "name": "python",
      "nbconvert_exporter": "python",
      "pygments_lexer": "ipython3",
      "version": "3.-1.-1"
    },
    "vscode": {
      "interpreter": {
        "hash": "31f2aee4e71d21fbe5cf8b01ff0e069b9275f58929596ceb00d14d90e3e16cd6"
      }
    },
    "colab": {
      "provenance": [],
      "include_colab_link": true
    }
  },
  "nbformat": 4,
  "nbformat_minor": 0
}